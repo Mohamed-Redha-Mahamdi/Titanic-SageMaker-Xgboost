{
  "cells": [
    {
      "cell_type": "code",
      "execution_count": null,
      "id": "80e743f2",
      "metadata": {
        "id": "80e743f2"
      },
      "outputs": [],
      "source": [
        "!pip install pandas\n",
        "!pip install boto3\n",
        "!pip install sagemaker\n",
        "!pip install scikit-learn"
      ]
    },
    {
      "cell_type": "code",
      "execution_count": null,
      "id": "4f0a37f1",
      "metadata": {
        "id": "4f0a37f1",
        "outputId": "3c04c31a-dfd4-4820-adb8-6dbdae9fd4be"
      },
      "outputs": [
        {
          "data": {
            "text/html": [
              "<div>\n",
              "<style scoped>\n",
              "    .dataframe tbody tr th:only-of-type {\n",
              "        vertical-align: middle;\n",
              "    }\n",
              "\n",
              "    .dataframe tbody tr th {\n",
              "        vertical-align: top;\n",
              "    }\n",
              "\n",
              "    .dataframe thead th {\n",
              "        text-align: right;\n",
              "    }\n",
              "</style>\n",
              "<table border=\"1\" class=\"dataframe\">\n",
              "  <thead>\n",
              "    <tr style=\"text-align: right;\">\n",
              "      <th></th>\n",
              "      <th>Survived</th>\n",
              "      <th>Pclass</th>\n",
              "      <th>Sex</th>\n",
              "      <th>Age</th>\n",
              "      <th>SibSp</th>\n",
              "      <th>Parch</th>\n",
              "      <th>Fare</th>\n",
              "      <th>Embarked</th>\n",
              "    </tr>\n",
              "  </thead>\n",
              "  <tbody>\n",
              "    <tr>\n",
              "      <th>0</th>\n",
              "      <td>0</td>\n",
              "      <td>3</td>\n",
              "      <td>1</td>\n",
              "      <td>22.0</td>\n",
              "      <td>1</td>\n",
              "      <td>0</td>\n",
              "      <td>7.2500</td>\n",
              "      <td>0</td>\n",
              "    </tr>\n",
              "    <tr>\n",
              "      <th>1</th>\n",
              "      <td>1</td>\n",
              "      <td>1</td>\n",
              "      <td>0</td>\n",
              "      <td>38.0</td>\n",
              "      <td>1</td>\n",
              "      <td>0</td>\n",
              "      <td>71.2833</td>\n",
              "      <td>2</td>\n",
              "    </tr>\n",
              "    <tr>\n",
              "      <th>2</th>\n",
              "      <td>1</td>\n",
              "      <td>3</td>\n",
              "      <td>0</td>\n",
              "      <td>26.0</td>\n",
              "      <td>0</td>\n",
              "      <td>0</td>\n",
              "      <td>7.9250</td>\n",
              "      <td>0</td>\n",
              "    </tr>\n",
              "    <tr>\n",
              "      <th>3</th>\n",
              "      <td>1</td>\n",
              "      <td>1</td>\n",
              "      <td>0</td>\n",
              "      <td>35.0</td>\n",
              "      <td>1</td>\n",
              "      <td>0</td>\n",
              "      <td>53.1000</td>\n",
              "      <td>0</td>\n",
              "    </tr>\n",
              "    <tr>\n",
              "      <th>4</th>\n",
              "      <td>0</td>\n",
              "      <td>3</td>\n",
              "      <td>1</td>\n",
              "      <td>35.0</td>\n",
              "      <td>0</td>\n",
              "      <td>0</td>\n",
              "      <td>8.0500</td>\n",
              "      <td>0</td>\n",
              "    </tr>\n",
              "  </tbody>\n",
              "</table>\n",
              "</div>"
            ],
            "text/plain": [
              "   Survived  Pclass  Sex   Age  SibSp  Parch     Fare  Embarked\n",
              "0         0       3    1  22.0      1      0   7.2500         0\n",
              "1         1       1    0  38.0      1      0  71.2833         2\n",
              "2         1       3    0  26.0      0      0   7.9250         0\n",
              "3         1       1    0  35.0      1      0  53.1000         0\n",
              "4         0       3    1  35.0      0      0   8.0500         0"
            ]
          },
          "execution_count": 15,
          "metadata": {},
          "output_type": "execute_result"
        }
      ],
      "source": [
        "import sagemaker\n",
        "import boto3\n",
        "from sagemaker.amazon.amazon_estimator import get_image_uri\n",
        "from sagemaker.session import s3_input, Session\n",
        "import numpy as np\n",
        "import boto3\n",
        "import pandas as pd\n",
        "from sagemaker import get_execution_role\n",
        "import sagemaker.amazon.common as smac\n",
        "import os\n",
        "import io\n",
        "\n",
        "role = get_execution_role()\n",
        "bucket='test-bucket-redha'\n",
        "data_key = 'processed/processed_titanic.csv'\n",
        "data_location = 's3://{}/{}'.format(bucket, data_key)\n",
        "\n",
        "df = pd.read_csv(data_location)\n",
        "df.head()"
      ]
    },
    {
      "cell_type": "code",
      "execution_count": null,
      "id": "10cb269b",
      "metadata": {
        "id": "10cb269b"
      },
      "outputs": [],
      "source": [
        "from sklearn.model_selection import train_test_split\n",
        "\n",
        "X = df.drop('Survived', axis=1)\n",
        "y = df['Survived']\n",
        "\n",
        "X_train, X_test, y_train, y_test = train_test_split(X, y, test_size=0.2, random_state=42)\n"
      ]
    },
    {
      "cell_type": "code",
      "execution_count": null,
      "id": "e334a403",
      "metadata": {
        "id": "e334a403"
      },
      "outputs": [],
      "source": [
        "import boto3\n",
        "from sagemaker.amazon.amazon_estimator import get_image_uri\n",
        "from sagemaker.session import s3_input, Session\n",
        "import numpy as np\n",
        "\n",
        "from sklearn.datasets import dump_svmlight_file\n",
        "\n",
        "dump_svmlight_file(X_train, y_train, 'train.libsvm')\n",
        "dump_svmlight_file(X_test, y_test, 'test.libsvm')\n",
        "\n",
        "bucket_name = 'test-bucket-redha'\n",
        "train_file = 'train.libsvm'\n",
        "test_file = 'test.libsvm'\n",
        "\n",
        "boto3.Session().resource('s3').Bucket(bucket_name).Object(os.path.join('train', train_file)).upload_file(train_file)\n",
        "boto3.Session().resource('s3').Bucket(bucket_name).Object(os.path.join('test', test_file)).upload_file(test_file)\n",
        "\n",
        "\n",
        "container = get_image_uri(boto3.Session().region_name, 'xgboost', '0.90-1')\n",
        "\n",
        "hyperparameters = {\n",
        "    \"max_depth\":\"5\",\n",
        "    \"eta\":\"0.2\",\n",
        "    \"gamma\":\"4\",\n",
        "    \"min_child_weight\":\"6\",\n",
        "    \"subsample\":\"0.7\",\n",
        "    \"objective\":\"binary:logistic\",\n",
        "    \"num_round\":50\n",
        "}\n",
        "\n",
        "estimator = sagemaker.estimator.Estimator(image_uri=container,\n",
        "                                          hyperparameters=hyperparameters,\n",
        "                                          role=role,\n",
        "                                          train_instance_count=1,\n",
        "                                          train_instance_type='ml.m5.xlarge',\n",
        "                                          train_volume_size=5, # 5 GB\n",
        "                                          output_path='s3://{}/{}/output'.format(bucket_name, 'prefix'),\n",
        "                                          sagemaker_session=sagemaker.Session())\n",
        "\n",
        "\n",
        "train_input = s3_input(s3_data='s3://{}/{}/{}'.format(bucket_name, 'train', train_file), content_type='csv')\n",
        "test_input = s3_input(s3_data='s3://{}/{}/{}'.format(bucket_name, 'test', test_file), content_type='csv')\n",
        "\n",
        "\n",
        "estimator.fit({'train': train_input, 'validation': test_input})\n",
        "\n",
        "\n"
      ]
    },
    {
      "cell_type": "code",
      "execution_count": null,
      "id": "46e9cb75",
      "metadata": {
        "id": "46e9cb75"
      },
      "outputs": [],
      "source": [
        "# Déployer le modèle\n",
        "predictor = estimator.deploy(initial_instance_count=1, instance_type='ml.m5.xlarge')"
      ]
    },
    {
      "cell_type": "code",
      "execution_count": null,
      "id": "a1c09ce4",
      "metadata": {
        "id": "a1c09ce4",
        "outputId": "8a4b9b02-fb05-40c0-99f2-e2bedcf70336"
      },
      "outputs": [
        {
          "name": "stdout",
          "output_type": "stream",
          "text": [
            "Accuracy: 0.5865921787709497\n"
          ]
        }
      ],
      "source": [
        "# Prédire les valeurs de l'ensemble de test\n",
        "from sagemaker.serializers import CSVSerializer\n",
        "from sagemaker.deserializers import StringDeserializer\n",
        "\n",
        "predictor.serializer = CSVSerializer()\n",
        "predictor.deserializer = StringDeserializer()\n",
        "\n",
        "# Serialize the input data without header and index\n",
        "#payload = X_test.to_csv(header=False, index=False).encode('utf-8')\n",
        "\n",
        "# Get predictions from the endpoint\n",
        "predictions = predictor.predict(X_test)\n",
        "\n",
        "# Convert the prediction response from string to numpy array\n",
        "predictions_array = np.fromstring(predictions, sep=',')\n",
        "\n",
        "# Arrondir les prédictions à 0 ou 1\n",
        "predictions_array = np.round(predictions_array)\n",
        "\n",
        "# Calculer l'accuracy\n",
        "from sklearn.metrics import accuracy_score\n",
        "\n",
        "accuracy = accuracy_score(y_test, predictions_array)\n",
        "print(f'Accuracy: {accuracy}')"
      ]
    },
    {
      "cell_type": "code",
      "execution_count": null,
      "id": "3ef02aa7",
      "metadata": {
        "id": "3ef02aa7"
      },
      "outputs": [],
      "source": [
        "print(\"Nombre de caractéristiques dans les données d'entraînement : \", X_train.shape[1])\n",
        "print(\"Nombre de caractéristiques dans les données d'inférence : \", X_test.shape[1])\n",
        "print(\"Les caractéristiques sont dans le même ordre : \", all(X_train.columns == X_test.columns))\n",
        "print(\"Il y a des données manquantes dans les données d'inférence : \", X_test.isnull().any().any())\n",
        "#print(payload)"
      ]
    },
    {
      "cell_type": "code",
      "execution_count": null,
      "id": "f0ab2312",
      "metadata": {
        "id": "f0ab2312"
      },
      "outputs": [],
      "source": [
        "predictor.delete_endpoint()\n"
      ]
    }
  ],
  "metadata": {
    "kernelspec": {
      "display_name": "conda_python3",
      "language": "python",
      "name": "conda_python3"
    },
    "language_info": {
      "codemirror_mode": {
        "name": "ipython",
        "version": 3
      },
      "file_extension": ".py",
      "mimetype": "text/x-python",
      "name": "python",
      "nbconvert_exporter": "python",
      "pygments_lexer": "ipython3",
      "version": "3.10.13"
    },
    "colab": {
      "provenance": []
    }
  },
  "nbformat": 4,
  "nbformat_minor": 5
}